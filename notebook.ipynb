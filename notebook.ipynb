{
 "cells": [
  {
   "cell_type": "code",
   "execution_count": 16,
   "metadata": {},
   "outputs": [
    {
     "name": "stdout",
     "output_type": "stream",
     "text": [
      "Scrape data for most popular movies IMDb\n",
      "                                            Title Rating Vote_count\n",
      "0                                        Saltburn    7.1       118K\n",
      "1                                     Poor Things    8.4        28K\n",
      "2                             Society of the Snow    7.9        46K\n",
      "3                                      Mean Girls    6.4       4.3K\n",
      "4                                       12th Fail    9.2        78K\n",
      "..                                            ...    ...        ...\n",
      "65                              Top Gun: Maverick    7.0       224K\n",
      "66                       The Shawshank Redemption    6.0       9.5K\n",
      "67              Everything Everywhere All at Once    8.7         2M\n",
      "68                                     The Killer    7.8       762K\n",
      "69  Mission: Impossible - Dead Reckoning Part One    7.7       318K\n",
      "\n",
      "[69 rows x 3 columns]\n"
     ]
    }
   ],
   "source": [
    "from a_movie_scraper import *\n",
    "\n",
    "mov_df1 = scrape_most_popular_movies_IMDB()\n",
    "mov_df1 = mov_df1.drop_duplicates(subset='Title')\n",
    "mov_df1.to_csv(CSV_PATH+\"mov_df1.csv\")\n",
    "print(\"Scrape data for most popular movies IMDb\")\n",
    "print(mov_df1)\n"
   ]
  },
  {
   "cell_type": "code",
   "execution_count": 17,
   "metadata": {},
   "outputs": [
    {
     "name": "stdout",
     "output_type": "stream",
     "text": [
      "Scrape data for most popular movies Rotten Tomatoes\n",
      "                                       Title    Start_Date\n",
      "0                        The Arc of Oblivion  Jan 16, 2024\n",
      "1   Gurren Lagann the Movie: Childhood's End  Jan 16, 2024\n",
      "2                                     I.S.S.  Jan 19, 2024\n",
      "3                               Founders Day  Jan 19, 2024\n",
      "4             Inside the Yellow Cocoon Shell  Jan 19, 2024\n",
      "..                                       ...           ...\n",
      "77                                  Saindhav  Jan 12, 2024\n",
      "78                                   Colao 2  Jan 12, 2024\n",
      "79                             Abraham Ozler  Jan 12, 2024\n",
      "80                                Regardless  Jan 12, 2024\n",
      "81                                    Aattam  Jan 12, 2024\n",
      "\n",
      "[82 rows x 2 columns]\n"
     ]
    }
   ],
   "source": [
    "mov_df2 = scrape_most_popular_movies_rotten_tomatoes()\n",
    "print(\"Scrape data for most popular movies Rotten Tomatoes\")\n",
    "print(mov_df2)\n",
    "mov_df2.to_csv(CSV_PATH+\"mov_df2.csv\")"
   ]
  },
  {
   "cell_type": "code",
   "execution_count": 18,
   "metadata": {},
   "outputs": [
    {
     "name": "stdout",
     "output_type": "stream",
     "text": [
      "Merged Data:\n",
      "                                                Title Rating Vote_count  \\\n",
      "0                                            Saltburn    7.1       118K   \n",
      "1                                         Poor Things    8.4        28K   \n",
      "2                                          Mean Girls    6.4       4.3K   \n",
      "3                                         Oppenheimer    8.4       599K   \n",
      "4                                       The Holdovers    8.0        56K   \n",
      "5                                      Anyone But You    6.6       9.4K   \n",
      "6                          Killers of the Flower Moon    7.7       164K   \n",
      "7                                       The Beekeeper    6.8       6.2K   \n",
      "8                                            Napoleon    6.5        88K   \n",
      "9                                               Wonka    7.3        63K   \n",
      "10                                  Anatomy of a Fall    7.8        38K   \n",
      "11                                             Barbie    6.9       463K   \n",
      "12                                      The Iron Claw    8.1        13K   \n",
      "13                                               Lift    5.5        10K   \n",
      "14                       Aquaman and the Lost Kingdom    6.0        30K   \n",
      "15                                         Night Swim    6.9        85K   \n",
      "16  The Hunger Games: The Ballad of Songbirds & Sn...    6.8        63K   \n",
      "17                              The Boy and the Heron    6.8        13K   \n",
      "18                                            Ferrari    5.0         2K   \n",
      "19                                 Godzilla Minus One    7.3       4.2K   \n",
      "20                               The Boys in the Boat    6.4       132K   \n",
      "21                                All of Us Strangers    6.3        29K   \n",
      "22                                   The Color Purple    7.8       4.1K   \n",
      "23                               The Zone of Interest    8.0       745K   \n",
      "24                                   American Fiction    6.5       161K   \n",
      "25                                            Monster    8.6       333K   \n",
      "26                                              Dunki    5.9         1K   \n",
      "27                               The Book of Clarence    7.7       215K   \n",
      "\n",
      "      Start_Date  \n",
      "0   Nov 22, 2023  \n",
      "1   Dec 08, 2023  \n",
      "2   Jan 12, 2024  \n",
      "3   Jul 21, 2023  \n",
      "4   Nov 10, 2023  \n",
      "5   Dec 22, 2023  \n",
      "6   Oct 20, 2023  \n",
      "7   Jan 12, 2024  \n",
      "8   Nov 22, 2023  \n",
      "9   Dec 15, 2023  \n",
      "10  Oct 13, 2023  \n",
      "11  Jul 21, 2023  \n",
      "12  Dec 22, 2023  \n",
      "13  Jan 12, 2024  \n",
      "14  Dec 22, 2023  \n",
      "15  Jan 05, 2024  \n",
      "16  Nov 17, 2023  \n",
      "17  Dec 08, 2023  \n",
      "18  Dec 25, 2023  \n",
      "19  Dec 01, 2023  \n",
      "20  Dec 25, 2023  \n",
      "21  Dec 22, 2023  \n",
      "22  Dec 25, 2023  \n",
      "23  Dec 15, 2023  \n",
      "24  Jan 12, 2024  \n",
      "25  Nov 22, 2023  \n",
      "26  Dec 21, 2023  \n",
      "27  Jan 12, 2024  \n",
      "\n",
      "Result of SQL Join:\n",
      "\n",
      "SQL join df1 and df2:\n",
      "                                                Title Rating Vote_count  \\\n",
      "0                                            Saltburn    7.1       118K   \n",
      "1                                         Poor Things    8.4        28K   \n",
      "2                                          Mean Girls    6.4       4.3K   \n",
      "3                                         Oppenheimer    8.4       599K   \n",
      "4                                       The Holdovers    8.0        56K   \n",
      "5                                      Anyone But You    6.6       9.4K   \n",
      "6                          Killers of the Flower Moon    7.7       164K   \n",
      "7                                       The Beekeeper    6.8       6.2K   \n",
      "8                                            Napoleon    6.5        88K   \n",
      "9                                               Wonka    7.3        63K   \n",
      "10                                  Anatomy of a Fall    7.8        38K   \n",
      "11                                             Barbie    6.9       463K   \n",
      "12                                      The Iron Claw    8.1        13K   \n",
      "13                                               Lift    5.5        10K   \n",
      "14                       Aquaman and the Lost Kingdom    6.0        30K   \n",
      "15                                         Night Swim    6.9        85K   \n",
      "16  The Hunger Games: The Ballad of Songbirds & Sn...    6.8        63K   \n",
      "17                              The Boy and the Heron    6.8        13K   \n",
      "18                                            Ferrari    5.0         2K   \n",
      "19                                 Godzilla Minus One    7.3       4.2K   \n",
      "20                               The Boys in the Boat    6.4       132K   \n",
      "21                                All of Us Strangers    6.3        29K   \n",
      "22                                   The Color Purple    7.8       4.1K   \n",
      "23                               The Zone of Interest    8.0       745K   \n",
      "24                                   American Fiction    6.5       161K   \n",
      "25                                            Monster    8.6       333K   \n",
      "26                                              Dunki    5.9         1K   \n",
      "27                               The Book of Clarence    7.7       215K   \n",
      "\n",
      "      Start_Date  \n",
      "0   Nov 22, 2023  \n",
      "1   Dec 08, 2023  \n",
      "2   Jan 12, 2024  \n",
      "3   Jul 21, 2023  \n",
      "4   Nov 10, 2023  \n",
      "5   Dec 22, 2023  \n",
      "6   Oct 20, 2023  \n",
      "7   Jan 12, 2024  \n",
      "8   Nov 22, 2023  \n",
      "9   Dec 15, 2023  \n",
      "10  Oct 13, 2023  \n",
      "11  Jul 21, 2023  \n",
      "12  Dec 22, 2023  \n",
      "13  Jan 12, 2024  \n",
      "14  Dec 22, 2023  \n",
      "15  Jan 05, 2024  \n",
      "16  Nov 17, 2023  \n",
      "17  Dec 08, 2023  \n",
      "18  Dec 25, 2023  \n",
      "19  Dec 01, 2023  \n",
      "20  Dec 25, 2023  \n",
      "21  Dec 22, 2023  \n",
      "22  Dec 25, 2023  \n",
      "23  Dec 15, 2023  \n",
      "24  Jan 12, 2024  \n",
      "25  Nov 22, 2023  \n",
      "26  Dec 21, 2023  \n",
      "27  Jan 12, 2024  \n"
     ]
    }
   ],
   "source": [
    "merged_data = join_two_df_by_SQL(mov_df1, mov_df2)\n",
    "print(\"\\nSQL join df1 and df2:\")\n",
    "print(merged_data)\n",
    "merged_data.to_csv(CSV_PATH+\"merged_data_by_title.csv\")"
   ]
  },
  {
   "cell_type": "code",
   "execution_count": 28,
   "metadata": {},
   "outputs": [],
   "source": [
    "csv_file3 = os.path.normpath(CSV_PATH+\"merged_data_by_title.csv\")\n",
    "data = pd.DataFrame(pd.read_csv(csv_file3))\n",
    "\n",
    "data['Rating'] = pd.to_numeric(data['Rating'], errors='coerce')\n",
    "data = data.dropna(subset=['Rating'])\n",
    "source = ColumnDataSource(data)\n"
   ]
  },
  {
   "cell_type": "code",
   "execution_count": 29,
   "metadata": {},
   "outputs": [
    {
     "data": {
      "text/html": [
       "    <style>\n",
       "        .bk-notebook-logo {\n",
       "            display: block;\n",
       "            width: 20px;\n",
       "            height: 20px;\n",
       "            background-image: url(data:image/png;base64,iVBORw0KGgoAAAANSUhEUgAAABQAAAAUCAYAAACNiR0NAAAABHNCSVQICAgIfAhkiAAAAAlwSFlzAAALEgAACxIB0t1+/AAAABx0RVh0U29mdHdhcmUAQWRvYmUgRmlyZXdvcmtzIENTNui8sowAAAOkSURBVDiNjZRtaJVlGMd/1/08zzln5zjP1LWcU9N0NkN8m2CYjpgQYQXqSs0I84OLIC0hkEKoPtiH3gmKoiJDU7QpLgoLjLIQCpEsNJ1vqUOdO7ppbuec5+V+rj4ctwzd8IIbbi6u+8f1539dt3A78eXC7QizUF7gyV1fD1Yqg4JWz84yffhm0qkFqBogB9rM8tZdtwVsPUhWhGcFJngGeWrPzHm5oaMmkfEg1usvLFyc8jLRqDOMru7AyC8saQr7GG7f5fvDeH7Ej8CM66nIF+8yngt6HWaKh7k49Soy9nXurCi1o3qUbS3zWfrYeQDTB/Qj6kX6Ybhw4B+bOYoLKCC9H3Nu/leUTZ1JdRWkkn2ldcCamzrcf47KKXdAJllSlxAOkRgyHsGC/zRday5Qld9DyoM4/q/rUoy/CXh3jzOu3bHUVZeU+DEn8FInkPBFlu3+nW3Nw0mk6vCDiWg8CeJaxEwuHS3+z5RgY+YBR6V1Z1nxSOfoaPa4LASWxxdNp+VWTk7+4vzaou8v8PN+xo+KY2xsw6une2frhw05CTYOmQvsEhjhWjn0bmXPjpE1+kplmmkP3suftwTubK9Vq22qKmrBhpY4jvd5afdRA3wGjFAgcnTK2s4hY0/GPNIb0nErGMCRxWOOX64Z8RAC4oCXdklmEvcL8o0BfkNK4lUg9HTl+oPlQxdNo3Mg4Nv175e/1LDGzZen30MEjRUtmXSfiTVu1kK8W4txyV6BMKlbgk3lMwYCiusNy9fVfvvwMxv8Ynl6vxoByANLTWplvuj/nF9m2+PDtt1eiHPBr1oIfhCChQMBw6Aw0UulqTKZdfVvfG7VcfIqLG9bcldL/+pdWTLxLUy8Qq38heUIjh4XlzZxzQm19lLFlr8vdQ97rjZVOLf8nclzckbcD4wxXMidpX30sFd37Fv/GtwwhzhxGVAprjbg0gCAEeIgwCZyTV2Z1REEW8O4py0wsjeloKoMr6iCY6dP92H6Vw/oTyICIthibxjm/DfN9lVz8IqtqKYLUXfoKVMVQVVJOElGjrnnUt9T9wbgp8AyYKaGlqingHZU/uG2NTZSVqwHQTWkx9hxjkpWDaCg6Ckj5qebgBVbT3V3NNXMSiWSDdGV3hrtzla7J+duwPOToIg42ChPQOQjspnSlp1V+Gjdged7+8UN5CRAV7a5EdFNwCjEaBR27b3W890TE7g24NAP/mMDXRWrGoFPQI9ls/MWO2dWFAar/xcOIImbbpA3zgAAAABJRU5ErkJggg==);\n",
       "        }\n",
       "    </style>\n",
       "    <div>\n",
       "        <a href=\"https://bokeh.org\" target=\"_blank\" class=\"bk-notebook-logo\"></a>\n",
       "        <span id=\"c300e4ec-1f72-49ed-930a-ad921eb27307\">Loading BokehJS ...</span>\n",
       "    </div>\n"
      ]
     },
     "metadata": {},
     "output_type": "display_data"
    },
    {
     "data": {
      "application/javascript": "(function(root) {\n  function now() {\n    return new Date();\n  }\n\n  const force = true;\n\n  if (typeof root._bokeh_onload_callbacks === \"undefined\" || force === true) {\n    root._bokeh_onload_callbacks = [];\n    root._bokeh_is_loading = undefined;\n  }\n\nconst JS_MIME_TYPE = 'application/javascript';\n  const HTML_MIME_TYPE = 'text/html';\n  const EXEC_MIME_TYPE = 'application/vnd.bokehjs_exec.v0+json';\n  const CLASS_NAME = 'output_bokeh rendered_html';\n\n  /**\n   * Render data to the DOM node\n   */\n  function render(props, node) {\n    const script = document.createElement(\"script\");\n    node.appendChild(script);\n  }\n\n  /**\n   * Handle when an output is cleared or removed\n   */\n  function handleClearOutput(event, handle) {\n    function drop(id) {\n      const view = Bokeh.index.get_by_id(id)\n      if (view != null) {\n        view.model.document.clear()\n        Bokeh.index.delete(view)\n      }\n    }\n\n    const cell = handle.cell;\n\n    const id = cell.output_area._bokeh_element_id;\n    const server_id = cell.output_area._bokeh_server_id;\n\n    // Clean up Bokeh references\n    if (id != null) {\n      drop(id)\n    }\n\n    if (server_id !== undefined) {\n      // Clean up Bokeh references\n      const cmd_clean = \"from bokeh.io.state import curstate; print(curstate().uuid_to_server['\" + server_id + \"'].get_sessions()[0].document.roots[0]._id)\";\n      cell.notebook.kernel.execute(cmd_clean, {\n        iopub: {\n          output: function(msg) {\n            const id = msg.content.text.trim()\n            drop(id)\n          }\n        }\n      });\n      // Destroy server and session\n      const cmd_destroy = \"import bokeh.io.notebook as ion; ion.destroy_server('\" + server_id + \"')\";\n      cell.notebook.kernel.execute(cmd_destroy);\n    }\n  }\n\n  /**\n   * Handle when a new output is added\n   */\n  function handleAddOutput(event, handle) {\n    const output_area = handle.output_area;\n    const output = handle.output;\n\n    // limit handleAddOutput to display_data with EXEC_MIME_TYPE content only\n    if ((output.output_type != \"display_data\") || (!Object.prototype.hasOwnProperty.call(output.data, EXEC_MIME_TYPE))) {\n      return\n    }\n\n    const toinsert = output_area.element.find(\".\" + CLASS_NAME.split(' ')[0]);\n\n    if (output.metadata[EXEC_MIME_TYPE][\"id\"] !== undefined) {\n      toinsert[toinsert.length - 1].firstChild.textContent = output.data[JS_MIME_TYPE];\n      // store reference to embed id on output_area\n      output_area._bokeh_element_id = output.metadata[EXEC_MIME_TYPE][\"id\"];\n    }\n    if (output.metadata[EXEC_MIME_TYPE][\"server_id\"] !== undefined) {\n      const bk_div = document.createElement(\"div\");\n      bk_div.innerHTML = output.data[HTML_MIME_TYPE];\n      const script_attrs = bk_div.children[0].attributes;\n      for (let i = 0; i < script_attrs.length; i++) {\n        toinsert[toinsert.length - 1].firstChild.setAttribute(script_attrs[i].name, script_attrs[i].value);\n        toinsert[toinsert.length - 1].firstChild.textContent = bk_div.children[0].textContent\n      }\n      // store reference to server id on output_area\n      output_area._bokeh_server_id = output.metadata[EXEC_MIME_TYPE][\"server_id\"];\n    }\n  }\n\n  function register_renderer(events, OutputArea) {\n\n    function append_mime(data, metadata, element) {\n      // create a DOM node to render to\n      const toinsert = this.create_output_subarea(\n        metadata,\n        CLASS_NAME,\n        EXEC_MIME_TYPE\n      );\n      this.keyboard_manager.register_events(toinsert);\n      // Render to node\n      const props = {data: data, metadata: metadata[EXEC_MIME_TYPE]};\n      render(props, toinsert[toinsert.length - 1]);\n      element.append(toinsert);\n      return toinsert\n    }\n\n    /* Handle when an output is cleared or removed */\n    events.on('clear_output.CodeCell', handleClearOutput);\n    events.on('delete.Cell', handleClearOutput);\n\n    /* Handle when a new output is added */\n    events.on('output_added.OutputArea', handleAddOutput);\n\n    /**\n     * Register the mime type and append_mime function with output_area\n     */\n    OutputArea.prototype.register_mime_type(EXEC_MIME_TYPE, append_mime, {\n      /* Is output safe? */\n      safe: true,\n      /* Index of renderer in `output_area.display_order` */\n      index: 0\n    });\n  }\n\n  // register the mime type if in Jupyter Notebook environment and previously unregistered\n  if (root.Jupyter !== undefined) {\n    const events = require('base/js/events');\n    const OutputArea = require('notebook/js/outputarea').OutputArea;\n\n    if (OutputArea.prototype.mime_types().indexOf(EXEC_MIME_TYPE) == -1) {\n      register_renderer(events, OutputArea);\n    }\n  }\n  if (typeof (root._bokeh_timeout) === \"undefined\" || force === true) {\n    root._bokeh_timeout = Date.now() + 5000;\n    root._bokeh_failed_load = false;\n  }\n\n  const NB_LOAD_WARNING = {'data': {'text/html':\n     \"<div style='background-color: #fdd'>\\n\"+\n     \"<p>\\n\"+\n     \"BokehJS does not appear to have successfully loaded. If loading BokehJS from CDN, this \\n\"+\n     \"may be due to a slow or bad network connection. Possible fixes:\\n\"+\n     \"</p>\\n\"+\n     \"<ul>\\n\"+\n     \"<li>re-rerun `output_notebook()` to attempt to load from CDN again, or</li>\\n\"+\n     \"<li>use INLINE resources instead, as so:</li>\\n\"+\n     \"</ul>\\n\"+\n     \"<code>\\n\"+\n     \"from bokeh.resources import INLINE\\n\"+\n     \"output_notebook(resources=INLINE)\\n\"+\n     \"</code>\\n\"+\n     \"</div>\"}};\n\n  function display_loaded() {\n    const el = document.getElementById(\"c300e4ec-1f72-49ed-930a-ad921eb27307\");\n    if (el != null) {\n      el.textContent = \"BokehJS is loading...\";\n    }\n    if (root.Bokeh !== undefined) {\n      if (el != null) {\n        el.textContent = \"BokehJS \" + root.Bokeh.version + \" successfully loaded.\";\n      }\n    } else if (Date.now() < root._bokeh_timeout) {\n      setTimeout(display_loaded, 100)\n    }\n  }\n\n  function run_callbacks() {\n    try {\n      root._bokeh_onload_callbacks.forEach(function(callback) {\n        if (callback != null)\n          callback();\n      });\n    } finally {\n      delete root._bokeh_onload_callbacks\n    }\n    console.debug(\"Bokeh: all callbacks have finished\");\n  }\n\n  function load_libs(css_urls, js_urls, callback) {\n    if (css_urls == null) css_urls = [];\n    if (js_urls == null) js_urls = [];\n\n    root._bokeh_onload_callbacks.push(callback);\n    if (root._bokeh_is_loading > 0) {\n      console.debug(\"Bokeh: BokehJS is being loaded, scheduling callback at\", now());\n      return null;\n    }\n    if (js_urls == null || js_urls.length === 0) {\n      run_callbacks();\n      return null;\n    }\n    console.debug(\"Bokeh: BokehJS not loaded, scheduling load and callback at\", now());\n    root._bokeh_is_loading = css_urls.length + js_urls.length;\n\n    function on_load() {\n      root._bokeh_is_loading--;\n      if (root._bokeh_is_loading === 0) {\n        console.debug(\"Bokeh: all BokehJS libraries/stylesheets loaded\");\n        run_callbacks()\n      }\n    }\n\n    function on_error(url) {\n      console.error(\"failed to load \" + url);\n    }\n\n    for (let i = 0; i < css_urls.length; i++) {\n      const url = css_urls[i];\n      const element = document.createElement(\"link\");\n      element.onload = on_load;\n      element.onerror = on_error.bind(null, url);\n      element.rel = \"stylesheet\";\n      element.type = \"text/css\";\n      element.href = url;\n      console.debug(\"Bokeh: injecting link tag for BokehJS stylesheet: \", url);\n      document.body.appendChild(element);\n    }\n\n    for (let i = 0; i < js_urls.length; i++) {\n      const url = js_urls[i];\n      const element = document.createElement('script');\n      element.onload = on_load;\n      element.onerror = on_error.bind(null, url);\n      element.async = false;\n      element.src = url;\n      console.debug(\"Bokeh: injecting script tag for BokehJS library: \", url);\n      document.head.appendChild(element);\n    }\n  };\n\n  function inject_raw_css(css) {\n    const element = document.createElement(\"style\");\n    element.appendChild(document.createTextNode(css));\n    document.body.appendChild(element);\n  }\n\n  const js_urls = [\"https://cdn.bokeh.org/bokeh/release/bokeh-3.3.1.min.js\", \"https://cdn.bokeh.org/bokeh/release/bokeh-gl-3.3.1.min.js\", \"https://cdn.bokeh.org/bokeh/release/bokeh-widgets-3.3.1.min.js\", \"https://cdn.bokeh.org/bokeh/release/bokeh-tables-3.3.1.min.js\", \"https://cdn.bokeh.org/bokeh/release/bokeh-mathjax-3.3.1.min.js\"];\n  const css_urls = [];\n\n  const inline_js = [    function(Bokeh) {\n      Bokeh.set_log_level(\"info\");\n    },\nfunction(Bokeh) {\n    }\n  ];\n\n  function run_inline_js() {\n    if (root.Bokeh !== undefined || force === true) {\n          for (let i = 0; i < inline_js.length; i++) {\n      inline_js[i].call(root, root.Bokeh);\n    }\nif (force === true) {\n        display_loaded();\n      }} else if (Date.now() < root._bokeh_timeout) {\n      setTimeout(run_inline_js, 100);\n    } else if (!root._bokeh_failed_load) {\n      console.log(\"Bokeh: BokehJS failed to load within specified timeout.\");\n      root._bokeh_failed_load = true;\n    } else if (force !== true) {\n      const cell = $(document.getElementById(\"c300e4ec-1f72-49ed-930a-ad921eb27307\")).parents('.cell').data().cell;\n      cell.output_area.append_execute_result(NB_LOAD_WARNING)\n    }\n  }\n\n  if (root._bokeh_is_loading === 0) {\n    console.debug(\"Bokeh: BokehJS loaded, going straight to plotting\");\n    run_inline_js();\n  } else {\n    load_libs(css_urls, js_urls, function() {\n      console.debug(\"Bokeh: BokehJS plotting callback run at\", now());\n      run_inline_js();\n    });\n  }\n}(window));",
      "application/vnd.bokehjs_load.v0+json": ""
     },
     "metadata": {},
     "output_type": "display_data"
    }
   ],
   "source": [
    "output_notebook()"
   ]
  },
  {
   "cell_type": "code",
   "execution_count": 31,
   "metadata": {},
   "outputs": [
    {
     "data": {
      "text/html": [
       "\n",
       "  <div id=\"f8a9d9de-b5ab-403e-ae5f-e6690a403d2b\" data-root-id=\"p1647\" style=\"display: contents;\"></div>\n"
      ]
     },
     "metadata": {},
     "output_type": "display_data"
    },
    {
     "data": {
      "application/javascript": "(function(root) {\n  function embed_document(root) {\n  const docs_json = {\"ce6a5951-725f-4c4e-a8c8-b4d233a0ac6e\":{\"version\":\"3.3.1\",\"title\":\"Bokeh Application\",\"roots\":[{\"type\":\"object\",\"name\":\"Figure\",\"id\":\"p1647\",\"attributes\":{\"x_range\":{\"type\":\"object\",\"name\":\"DataRange1d\",\"id\":\"p1649\"},\"y_range\":{\"type\":\"object\",\"name\":\"FactorRange\",\"id\":\"p1657\",\"attributes\":{\"factors\":[\"The Book of Clarence\",\"Dunki\",\"Monster\",\"American Fiction\",\"The Zone of Interest\",\"The Color Purple\",\"All of Us Strangers\",\"The Boys in the Boat\",\"Godzilla Minus One\",\"Ferrari\",\"The Boy and the Heron\",\"The Hunger Games: The Ballad of Songbirds & Snakes\",\"Night Swim\",\"Aquaman and the Lost Kingdom\",\"Lift\",\"The Iron Claw\",\"Barbie\",\"Anatomy of a Fall\",\"Wonka\",\"Napoleon\",\"The Beekeeper\",\"Killers of the Flower Moon\",\"Anyone But You\",\"The Holdovers\",\"Oppenheimer\",\"Mean Girls\",\"Poor Things\",\"Saltburn\"]}},\"x_scale\":{\"type\":\"object\",\"name\":\"LinearScale\",\"id\":\"p1658\"},\"y_scale\":{\"type\":\"object\",\"name\":\"CategoricalScale\",\"id\":\"p1659\"},\"title\":{\"type\":\"object\",\"name\":\"Title\",\"id\":\"p1650\",\"attributes\":{\"text\":\"IMDb's moives shows on Rottentomatoes\"}},\"renderers\":[{\"type\":\"object\",\"name\":\"GlyphRenderer\",\"id\":\"p1683\",\"attributes\":{\"data_source\":{\"type\":\"object\",\"name\":\"ColumnDataSource\",\"id\":\"p1598\",\"attributes\":{\"selected\":{\"type\":\"object\",\"name\":\"Selection\",\"id\":\"p1599\",\"attributes\":{\"indices\":[],\"line_indices\":[]}},\"selection_policy\":{\"type\":\"object\",\"name\":\"UnionRenderers\",\"id\":\"p1600\"},\"data\":{\"type\":\"map\",\"entries\":[[\"index\",{\"type\":\"ndarray\",\"array\":{\"type\":\"bytes\",\"data\":\"AAAAAAEAAAACAAAAAwAAAAQAAAAFAAAABgAAAAcAAAAIAAAACQAAAAoAAAALAAAADAAAAA0AAAAOAAAADwAAABAAAAARAAAAEgAAABMAAAAUAAAAFQAAABYAAAAXAAAAGAAAABkAAAAaAAAAGwAAAA==\"},\"shape\":[28],\"dtype\":\"int32\",\"order\":\"little\"}],[\"Unnamed: 0\",{\"type\":\"ndarray\",\"array\":{\"type\":\"bytes\",\"data\":\"AAAAAAEAAAACAAAAAwAAAAQAAAAFAAAABgAAAAcAAAAIAAAACQAAAAoAAAALAAAADAAAAA0AAAAOAAAADwAAABAAAAARAAAAEgAAABMAAAAUAAAAFQAAABYAAAAXAAAAGAAAABkAAAAaAAAAGwAAAA==\"},\"shape\":[28],\"dtype\":\"int32\",\"order\":\"little\"}],[\"Title\",{\"type\":\"ndarray\",\"array\":[\"Saltburn\",\"Poor Things\",\"Mean Girls\",\"Oppenheimer\",\"The Holdovers\",\"Anyone But You\",\"Killers of the Flower Moon\",\"The Beekeeper\",\"Napoleon\",\"Wonka\",\"Anatomy of a Fall\",\"Barbie\",\"The Iron Claw\",\"Lift\",\"Aquaman and the Lost Kingdom\",\"Night Swim\",\"The Hunger Games: The Ballad of Songbirds & Snakes\",\"The Boy and the Heron\",\"Ferrari\",\"Godzilla Minus One\",\"The Boys in the Boat\",\"All of Us Strangers\",\"The Color Purple\",\"The Zone of Interest\",\"American Fiction\",\"Monster\",\"Dunki\",\"The Book of Clarence\"],\"shape\":[28],\"dtype\":\"object\",\"order\":\"little\"}],[\"Rating\",{\"type\":\"ndarray\",\"array\":{\"type\":\"bytes\",\"data\":\"ZmZmZmZmHEDNzMzMzMwgQJqZmZmZmRlAzczMzMzMIEAAAAAAAAAgQGZmZmZmZhpAzczMzMzMHkAzMzMzMzMbQAAAAAAAABpAMzMzMzMzHUAzMzMzMzMfQJqZmZmZmRtAMzMzMzMzIEAAAAAAAAAWQAAAAAAAABhAmpmZmZmZG0AzMzMzMzMbQDMzMzMzMxtAAAAAAAAAFEAzMzMzMzMdQJqZmZmZmRlAMzMzMzMzGUAzMzMzMzMfQAAAAAAAACBAAAAAAAAAGkAzMzMzMzMhQJqZmZmZmRdAzczMzMzMHkA=\"},\"shape\":[28],\"dtype\":\"float64\",\"order\":\"little\"}],[\"Vote_count\",{\"type\":\"ndarray\",\"array\":[\"118K\",\"28K\",\"4.3K\",\"599K\",\"56K\",\"9.4K\",\"164K\",\"6.2K\",\"88K\",\"63K\",\"38K\",\"463K\",\"13K\",\"10K\",\"30K\",\"85K\",\"63K\",\"13K\",\"2K\",\"4.2K\",\"132K\",\"29K\",\"4.1K\",\"745K\",\"161K\",\"333K\",\"1K\",\"215K\"],\"shape\":[28],\"dtype\":\"object\",\"order\":\"little\"}],[\"Start_Date\",{\"type\":\"ndarray\",\"array\":[\"Nov 22, 2023\",\"Dec 08, 2023\",\"Jan 12, 2024\",\"Jul 21, 2023\",\"Nov 10, 2023\",\"Dec 22, 2023\",\"Oct 20, 2023\",\"Jan 12, 2024\",\"Nov 22, 2023\",\"Dec 15, 2023\",\"Oct 13, 2023\",\"Jul 21, 2023\",\"Dec 22, 2023\",\"Jan 12, 2024\",\"Dec 22, 2023\",\"Jan 05, 2024\",\"Nov 17, 2023\",\"Dec 08, 2023\",\"Dec 25, 2023\",\"Dec 01, 2023\",\"Dec 25, 2023\",\"Dec 22, 2023\",\"Dec 25, 2023\",\"Dec 15, 2023\",\"Jan 12, 2024\",\"Nov 22, 2023\",\"Dec 21, 2023\",\"Jan 12, 2024\"],\"shape\":[28],\"dtype\":\"object\",\"order\":\"little\"}]]}}},\"view\":{\"type\":\"object\",\"name\":\"CDSView\",\"id\":\"p1684\",\"attributes\":{\"filter\":{\"type\":\"object\",\"name\":\"AllIndices\",\"id\":\"p1685\"}}},\"glyph\":{\"type\":\"object\",\"name\":\"HBar\",\"id\":\"p1680\",\"attributes\":{\"y\":{\"type\":\"field\",\"field\":\"Title\"},\"height\":{\"type\":\"value\",\"value\":0.7},\"right\":{\"type\":\"field\",\"field\":\"Rating\"},\"line_color\":{\"type\":\"value\",\"value\":\"white\"},\"fill_color\":{\"type\":\"value\",\"value\":\"blue\"},\"hatch_color\":{\"type\":\"value\",\"value\":\"blue\"}}},\"nonselection_glyph\":{\"type\":\"object\",\"name\":\"HBar\",\"id\":\"p1681\",\"attributes\":{\"y\":{\"type\":\"field\",\"field\":\"Title\"},\"height\":{\"type\":\"value\",\"value\":0.7},\"right\":{\"type\":\"field\",\"field\":\"Rating\"},\"line_color\":{\"type\":\"value\",\"value\":\"white\"},\"line_alpha\":{\"type\":\"value\",\"value\":0.1},\"fill_color\":{\"type\":\"value\",\"value\":\"blue\"},\"fill_alpha\":{\"type\":\"value\",\"value\":0.1},\"hatch_color\":{\"type\":\"value\",\"value\":\"blue\"},\"hatch_alpha\":{\"type\":\"value\",\"value\":0.1}}},\"muted_glyph\":{\"type\":\"object\",\"name\":\"HBar\",\"id\":\"p1682\",\"attributes\":{\"y\":{\"type\":\"field\",\"field\":\"Title\"},\"height\":{\"type\":\"value\",\"value\":0.7},\"right\":{\"type\":\"field\",\"field\":\"Rating\"},\"line_color\":{\"type\":\"value\",\"value\":\"white\"},\"line_alpha\":{\"type\":\"value\",\"value\":0.2},\"fill_color\":{\"type\":\"value\",\"value\":\"blue\"},\"fill_alpha\":{\"type\":\"value\",\"value\":0.2},\"hatch_color\":{\"type\":\"value\",\"value\":\"blue\"},\"hatch_alpha\":{\"type\":\"value\",\"value\":0.2}}}}}],\"toolbar\":{\"type\":\"object\",\"name\":\"Toolbar\",\"id\":\"p1656\",\"attributes\":{\"tools\":[{\"type\":\"object\",\"name\":\"PanTool\",\"id\":\"p1670\"},{\"type\":\"object\",\"name\":\"WheelZoomTool\",\"id\":\"p1671\",\"attributes\":{\"renderers\":\"auto\"}},{\"type\":\"object\",\"name\":\"BoxZoomTool\",\"id\":\"p1672\",\"attributes\":{\"overlay\":{\"type\":\"object\",\"name\":\"BoxAnnotation\",\"id\":\"p1673\",\"attributes\":{\"syncable\":false,\"level\":\"overlay\",\"visible\":false,\"left_units\":\"canvas\",\"right_units\":\"canvas\",\"top_units\":\"canvas\",\"bottom_units\":\"canvas\",\"line_color\":\"black\",\"line_alpha\":1.0,\"line_width\":2,\"line_dash\":[4,4],\"fill_color\":\"lightgrey\",\"fill_alpha\":0.5}}}},{\"type\":\"object\",\"name\":\"SaveTool\",\"id\":\"p1674\"},{\"type\":\"object\",\"name\":\"ResetTool\",\"id\":\"p1675\"},{\"type\":\"object\",\"name\":\"HelpTool\",\"id\":\"p1676\"},{\"type\":\"object\",\"name\":\"HoverTool\",\"id\":\"p1686\",\"attributes\":{\"renderers\":\"auto\",\"tooltips\":[[\"Title\",\"@Title\"],[\"Rating\",\"@Rating\"],[\"Vote Count\",\"@Vote_count\"],[\"Start Date\",\"@Start_Date\"]]}}]}},\"left\":[{\"type\":\"object\",\"name\":\"CategoricalAxis\",\"id\":\"p1665\",\"attributes\":{\"ticker\":{\"type\":\"object\",\"name\":\"CategoricalTicker\",\"id\":\"p1666\"},\"formatter\":{\"type\":\"object\",\"name\":\"CategoricalTickFormatter\",\"id\":\"p1667\"},\"axis_label\":\"Movies\",\"major_label_policy\":{\"type\":\"object\",\"name\":\"AllLabels\",\"id\":\"p1668\"}}}],\"below\":[{\"type\":\"object\",\"name\":\"LinearAxis\",\"id\":\"p1660\",\"attributes\":{\"ticker\":{\"type\":\"object\",\"name\":\"BasicTicker\",\"id\":\"p1661\",\"attributes\":{\"mantissas\":[1,2,5]}},\"formatter\":{\"type\":\"object\",\"name\":\"BasicTickFormatter\",\"id\":\"p1662\"},\"axis_label\":\"Rating\",\"major_label_policy\":{\"type\":\"object\",\"name\":\"AllLabels\",\"id\":\"p1663\"}}}],\"center\":[{\"type\":\"object\",\"name\":\"Grid\",\"id\":\"p1664\",\"attributes\":{\"axis\":{\"id\":\"p1660\"}}},{\"type\":\"object\",\"name\":\"Grid\",\"id\":\"p1669\",\"attributes\":{\"dimension\":1,\"axis\":{\"id\":\"p1665\"}}}]}}]}};\n  const render_items = [{\"docid\":\"ce6a5951-725f-4c4e-a8c8-b4d233a0ac6e\",\"roots\":{\"p1647\":\"f8a9d9de-b5ab-403e-ae5f-e6690a403d2b\"},\"root_ids\":[\"p1647\"]}];\n  root.Bokeh.embed.embed_items_notebook(docs_json, render_items);\n  }\n  if (root.Bokeh !== undefined) {\n    embed_document(root);\n  } else {\n    let attempts = 0;\n    const timer = setInterval(function(root) {\n      if (root.Bokeh !== undefined) {\n        clearInterval(timer);\n        embed_document(root);\n      } else {\n        attempts++;\n        if (attempts > 100) {\n          clearInterval(timer);\n          console.log(\"Bokeh: ERROR: Unable to run BokehJS code because BokehJS library is missing\");\n        }\n      }\n    }, 10, root)\n  }\n})(window);",
      "application/vnd.bokehjs_exec.v0+json": ""
     },
     "metadata": {
      "application/vnd.bokehjs_exec.v0+json": {
       "id": "p1647"
      }
     },
     "output_type": "display_data"
    }
   ],
   "source": [
    "p = figure(title=\"IMDb's moives shows on Rottentomatoes\", y_axis_label='Movies',\n",
    "               x_axis_label='Rating', y_range=data['Title'][::-1])\n",
    "\n",
    "p.hbar(y='Title', right='Rating', height=0.7,\n",
    "           source=source, line_color=\"white\", color=\"blue\")\n",
    "hover = HoverTool()\n",
    "hover.tooltips = [('Title', '@Title'), ('Rating', '@Rating'),\n",
    "                    ('Vote Count', '@Vote_count'), ('Start Date', '@Start_Date')]\n",
    "p.add_tools(hover)\n",
    "show(p)"
   ]
  }
 ],
 "metadata": {
  "kernelspec": {
   "display_name": "venv",
   "language": "python",
   "name": "python3"
  },
  "language_info": {
   "codemirror_mode": {
    "name": "ipython",
    "version": 3
   },
   "file_extension": ".py",
   "mimetype": "text/x-python",
   "name": "python",
   "nbconvert_exporter": "python",
   "pygments_lexer": "ipython3",
   "version": "3.11.0"
  }
 },
 "nbformat": 4,
 "nbformat_minor": 2
}
